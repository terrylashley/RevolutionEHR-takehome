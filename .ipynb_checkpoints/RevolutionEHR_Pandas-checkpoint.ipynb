{
 "cells": [
  {
   "cell_type": "markdown",
   "metadata": {},
   "source": [
    "### Terry Lashley \n",
    "#### RevolutionEHR and the Data Conversion Specialist position\n",
    "#### Take-home exercise"
   ]
  },
  {
   "cell_type": "code",
   "execution_count": 2,
   "metadata": {},
   "outputs": [],
   "source": [
    "#Import Dependencies\n",
    "import pandas as pd"
   ]
  },
  {
   "cell_type": "code",
   "execution_count": 3,
   "metadata": {},
   "outputs": [
    {
     "data": {
      "text/html": [
       "<div>\n",
       "<style scoped>\n",
       "    .dataframe tbody tr th:only-of-type {\n",
       "        vertical-align: middle;\n",
       "    }\n",
       "\n",
       "    .dataframe tbody tr th {\n",
       "        vertical-align: top;\n",
       "    }\n",
       "\n",
       "    .dataframe thead th {\n",
       "        text-align: right;\n",
       "    }\n",
       "</style>\n",
       "<table border=\"1\" class=\"dataframe\">\n",
       "  <thead>\n",
       "    <tr style=\"text-align: right;\">\n",
       "      <th></th>\n",
       "      <th>Last_Name</th>\n",
       "      <th>First_Name</th>\n",
       "      <th>Email</th>\n",
       "      <th>Activity</th>\n",
       "      <th>Duration (minutes)</th>\n",
       "      <th>Date</th>\n",
       "    </tr>\n",
       "  </thead>\n",
       "  <tbody>\n",
       "    <tr>\n",
       "      <th>0</th>\n",
       "      <td>Van-Damme</td>\n",
       "      <td>Krista</td>\n",
       "      <td>krista.van-damme@gmail.com</td>\n",
       "      <td>Bike</td>\n",
       "      <td>54</td>\n",
       "      <td>2020-10-20</td>\n",
       "    </tr>\n",
       "    <tr>\n",
       "      <th>1</th>\n",
       "      <td>Perez</td>\n",
       "      <td>Kim</td>\n",
       "      <td>kim.perez@gmail.com</td>\n",
       "      <td>Run</td>\n",
       "      <td>43</td>\n",
       "      <td>2020-10-20</td>\n",
       "    </tr>\n",
       "    <tr>\n",
       "      <th>2</th>\n",
       "      <td>Gurrala</td>\n",
       "      <td>Evelyn</td>\n",
       "      <td>evelyn.gurrala@gmail.com</td>\n",
       "      <td>Run</td>\n",
       "      <td>54</td>\n",
       "      <td>2020-10-17</td>\n",
       "    </tr>\n",
       "    <tr>\n",
       "      <th>3</th>\n",
       "      <td>Perez</td>\n",
       "      <td>Kim</td>\n",
       "      <td>KP_2020@gmail.com</td>\n",
       "      <td>Bike</td>\n",
       "      <td>19</td>\n",
       "      <td>2020-10-20</td>\n",
       "    </tr>\n",
       "    <tr>\n",
       "      <th>4</th>\n",
       "      <td>Douberley</td>\n",
       "      <td>Tareq</td>\n",
       "      <td>tareq.douberley@gmail.com</td>\n",
       "      <td>Bike</td>\n",
       "      <td>7</td>\n",
       "      <td>2020-10-18</td>\n",
       "    </tr>\n",
       "  </tbody>\n",
       "</table>\n",
       "</div>"
      ],
      "text/plain": [
       "   Last_Name  First_Name                       Email  Activity  \\\n",
       "0  Van-Damme      Krista  krista.van-damme@gmail.com      Bike   \n",
       "1      Perez         Kim         kim.perez@gmail.com       Run   \n",
       "2    Gurrala      Evelyn    evelyn.gurrala@gmail.com       Run   \n",
       "3      Perez         Kim           KP_2020@gmail.com      Bike   \n",
       "4  Douberley       Tareq   tareq.douberley@gmail.com      Bike   \n",
       "\n",
       "    Duration (minutes)        Date  \n",
       "0                   54  2020-10-20  \n",
       "1                   43  2020-10-20  \n",
       "2                   54  2020-10-17  \n",
       "3                   19  2020-10-20  \n",
       "4                    7  2020-10-18  "
      ]
     },
     "execution_count": 3,
     "metadata": {},
     "output_type": "execute_result"
    }
   ],
   "source": [
    "# Create variable for data file to pull with pandas\n",
    "csv_path = \"activity_data.csv\"\n",
    "activity_df = pd.read_csv(csv_path)\n",
    "\n",
    "#display and review dataset for analysis\n",
    "activity_df.head()"
   ]
  },
  {
   "cell_type": "code",
   "execution_count": 4,
   "metadata": {},
   "outputs": [
    {
     "data": {
      "text/plain": [
       "Last_Name              object\n",
       " First_Name            object\n",
       " Email                 object\n",
       " Activity              object\n",
       " Duration (minutes)     int64\n",
       " Date                  object\n",
       "dtype: object"
      ]
     },
     "execution_count": 4,
     "metadata": {},
     "output_type": "execute_result"
    }
   ],
   "source": [
    "#Verify column types / identify if any changes are needed\n",
    "activity_df.dtypes"
   ]
  },
  {
   "cell_type": "code",
   "execution_count": 5,
   "metadata": {},
   "outputs": [
    {
     "data": {
      "text/html": [
       "<div>\n",
       "<style scoped>\n",
       "    .dataframe tbody tr th:only-of-type {\n",
       "        vertical-align: middle;\n",
       "    }\n",
       "\n",
       "    .dataframe tbody tr th {\n",
       "        vertical-align: top;\n",
       "    }\n",
       "\n",
       "    .dataframe thead th {\n",
       "        text-align: right;\n",
       "    }\n",
       "</style>\n",
       "<table border=\"1\" class=\"dataframe\">\n",
       "  <thead>\n",
       "    <tr style=\"text-align: right;\">\n",
       "      <th></th>\n",
       "      <th>Last_name</th>\n",
       "      <th>First_name</th>\n",
       "      <th>Email</th>\n",
       "      <th>Activity</th>\n",
       "      <th>Duration</th>\n",
       "      <th>Date</th>\n",
       "    </tr>\n",
       "  </thead>\n",
       "  <tbody>\n",
       "    <tr>\n",
       "      <th>0</th>\n",
       "      <td>Van-Damme</td>\n",
       "      <td>Krista</td>\n",
       "      <td>krista.van-damme@gmail.com</td>\n",
       "      <td>Bike</td>\n",
       "      <td>54</td>\n",
       "      <td>2020-10-20</td>\n",
       "    </tr>\n",
       "    <tr>\n",
       "      <th>1</th>\n",
       "      <td>Perez</td>\n",
       "      <td>Kim</td>\n",
       "      <td>kim.perez@gmail.com</td>\n",
       "      <td>Run</td>\n",
       "      <td>43</td>\n",
       "      <td>2020-10-20</td>\n",
       "    </tr>\n",
       "    <tr>\n",
       "      <th>2</th>\n",
       "      <td>Gurrala</td>\n",
       "      <td>Evelyn</td>\n",
       "      <td>evelyn.gurrala@gmail.com</td>\n",
       "      <td>Run</td>\n",
       "      <td>54</td>\n",
       "      <td>2020-10-17</td>\n",
       "    </tr>\n",
       "    <tr>\n",
       "      <th>3</th>\n",
       "      <td>Perez</td>\n",
       "      <td>Kim</td>\n",
       "      <td>KP_2020@gmail.com</td>\n",
       "      <td>Bike</td>\n",
       "      <td>19</td>\n",
       "      <td>2020-10-20</td>\n",
       "    </tr>\n",
       "    <tr>\n",
       "      <th>4</th>\n",
       "      <td>Douberley</td>\n",
       "      <td>Tareq</td>\n",
       "      <td>tareq.douberley@gmail.com</td>\n",
       "      <td>Bike</td>\n",
       "      <td>7</td>\n",
       "      <td>2020-10-18</td>\n",
       "    </tr>\n",
       "  </tbody>\n",
       "</table>\n",
       "</div>"
      ],
      "text/plain": [
       "   Last_name First_name                       Email Activity  Duration  \\\n",
       "0  Van-Damme     Krista  krista.van-damme@gmail.com     Bike        54   \n",
       "1      Perez        Kim         kim.perez@gmail.com      Run        43   \n",
       "2    Gurrala     Evelyn    evelyn.gurrala@gmail.com      Run        54   \n",
       "3      Perez        Kim           KP_2020@gmail.com     Bike        19   \n",
       "4  Douberley      Tareq   tareq.douberley@gmail.com     Bike         7   \n",
       "\n",
       "         Date  \n",
       "0  2020-10-20  \n",
       "1  2020-10-20  \n",
       "2  2020-10-17  \n",
       "3  2020-10-20  \n",
       "4  2020-10-18  "
      ]
     },
     "execution_count": 5,
     "metadata": {},
     "output_type": "execute_result"
    }
   ],
   "source": [
    "#Renamed Duration column for ease of use \n",
    "activity_df.columns = ['Last_name', 'First_name', 'Email', 'Activity', 'Duration', 'Date']\n",
    "\n",
    "activity_df.head()"
   ]
  },
  {
   "cell_type": "markdown",
   "metadata": {},
   "source": [
    "### What is the largest single exercise interval ever logged?  \n",
    "#### The Longest Interval was 100 Minutes by Perez"
   ]
  },
  {
   "cell_type": "code",
   "execution_count": 6,
   "metadata": {},
   "outputs": [
    {
     "data": {
      "text/html": [
       "<div>\n",
       "<style scoped>\n",
       "    .dataframe tbody tr th:only-of-type {\n",
       "        vertical-align: middle;\n",
       "    }\n",
       "\n",
       "    .dataframe tbody tr th {\n",
       "        vertical-align: top;\n",
       "    }\n",
       "\n",
       "    .dataframe thead th {\n",
       "        text-align: right;\n",
       "    }\n",
       "</style>\n",
       "<table border=\"1\" class=\"dataframe\">\n",
       "  <thead>\n",
       "    <tr style=\"text-align: right;\">\n",
       "      <th></th>\n",
       "      <th>Last_name</th>\n",
       "      <th>First_name</th>\n",
       "      <th>Email</th>\n",
       "      <th>Activity</th>\n",
       "      <th>Duration</th>\n",
       "      <th>Date</th>\n",
       "    </tr>\n",
       "  </thead>\n",
       "  <tbody>\n",
       "    <tr>\n",
       "      <th>424</th>\n",
       "      <td>Perez</td>\n",
       "      <td>Kim</td>\n",
       "      <td>kim.perez@gmail.com</td>\n",
       "      <td>Swim</td>\n",
       "      <td>100</td>\n",
       "      <td>2020-10-18</td>\n",
       "    </tr>\n",
       "    <tr>\n",
       "      <th>500</th>\n",
       "      <td>Oettinger</td>\n",
       "      <td>David</td>\n",
       "      <td>oettinger@gmail.com</td>\n",
       "      <td>Bike</td>\n",
       "      <td>60</td>\n",
       "      <td>2020-10-19</td>\n",
       "    </tr>\n",
       "    <tr>\n",
       "      <th>913</th>\n",
       "      <td>Gurrala</td>\n",
       "      <td>Evelyn</td>\n",
       "      <td>evelyn.gurrala@gmail.com</td>\n",
       "      <td>Swim</td>\n",
       "      <td>60</td>\n",
       "      <td>2020-10-21</td>\n",
       "    </tr>\n",
       "  </tbody>\n",
       "</table>\n",
       "</div>"
      ],
      "text/plain": [
       "     Last_name First_name                     Email Activity  Duration  \\\n",
       "424      Perez        Kim       kim.perez@gmail.com     Swim       100   \n",
       "500  Oettinger      David       oettinger@gmail.com     Bike        60   \n",
       "913    Gurrala     Evelyn  evelyn.gurrala@gmail.com     Swim        60   \n",
       "\n",
       "           Date  \n",
       "424  2020-10-18  \n",
       "500  2020-10-19  \n",
       "913  2020-10-21  "
      ]
     },
     "execution_count": 6,
     "metadata": {},
     "output_type": "execute_result"
    }
   ],
   "source": [
    "#Sort the data set using the duration column bringning the highest value to the first line\n",
    "highest_minutes_df = activity_df.sort_values(\"Duration\", ascending=False)\n",
    "highest_minutes_df.head(3)"
   ]
  },
  {
   "cell_type": "markdown",
   "metadata": {},
   "source": [
    "### What is David Douberley's longest run this week? (October 17 2020 - October 23 2020). \n",
    "\n",
    "#### Mr. Douberley's longest run the date range provided was 59 minutes"
   ]
  },
  {
   "cell_type": "code",
   "execution_count": 7,
   "metadata": {},
   "outputs": [
    {
     "data": {
      "text/html": [
       "<div>\n",
       "<style scoped>\n",
       "    .dataframe tbody tr th:only-of-type {\n",
       "        vertical-align: middle;\n",
       "    }\n",
       "\n",
       "    .dataframe tbody tr th {\n",
       "        vertical-align: top;\n",
       "    }\n",
       "\n",
       "    .dataframe thead th {\n",
       "        text-align: right;\n",
       "    }\n",
       "</style>\n",
       "<table border=\"1\" class=\"dataframe\">\n",
       "  <thead>\n",
       "    <tr style=\"text-align: right;\">\n",
       "      <th></th>\n",
       "      <th>Last_name</th>\n",
       "      <th>First_name</th>\n",
       "      <th>Activity</th>\n",
       "      <th>Duration</th>\n",
       "      <th>Date</th>\n",
       "    </tr>\n",
       "  </thead>\n",
       "  <tbody>\n",
       "    <tr>\n",
       "      <th>0</th>\n",
       "      <td>Van-Damme</td>\n",
       "      <td>Krista</td>\n",
       "      <td>Bike</td>\n",
       "      <td>54</td>\n",
       "      <td>2020-10-20</td>\n",
       "    </tr>\n",
       "    <tr>\n",
       "      <th>1</th>\n",
       "      <td>Perez</td>\n",
       "      <td>Kim</td>\n",
       "      <td>Run</td>\n",
       "      <td>43</td>\n",
       "      <td>2020-10-20</td>\n",
       "    </tr>\n",
       "    <tr>\n",
       "      <th>2</th>\n",
       "      <td>Gurrala</td>\n",
       "      <td>Evelyn</td>\n",
       "      <td>Run</td>\n",
       "      <td>54</td>\n",
       "      <td>2020-10-17</td>\n",
       "    </tr>\n",
       "  </tbody>\n",
       "</table>\n",
       "</div>"
      ],
      "text/plain": [
       "   Last_name First_name Activity  Duration        Date\n",
       "0  Van-Damme     Krista     Bike        54  2020-10-20\n",
       "1      Perez        Kim      Run        43  2020-10-20\n",
       "2    Gurrala     Evelyn      Run        54  2020-10-17"
      ]
     },
     "execution_count": 7,
     "metadata": {},
     "output_type": "execute_result"
    }
   ],
   "source": [
    "#cleaned up the data / removed email to limit data not being used\n",
    "long_run_df = activity_df[[\"Last_name\", \"First_name\", \"Activity\", \"Duration\", \"Date\"]]\n",
    "long_run_df.head(3)"
   ]
  },
  {
   "cell_type": "code",
   "execution_count": 18,
   "metadata": {},
   "outputs": [
    {
     "data": {
      "text/html": [
       "<div>\n",
       "<style scoped>\n",
       "    .dataframe tbody tr th:only-of-type {\n",
       "        vertical-align: middle;\n",
       "    }\n",
       "\n",
       "    .dataframe tbody tr th {\n",
       "        vertical-align: top;\n",
       "    }\n",
       "\n",
       "    .dataframe thead th {\n",
       "        text-align: right;\n",
       "    }\n",
       "</style>\n",
       "<table border=\"1\" class=\"dataframe\">\n",
       "  <thead>\n",
       "    <tr style=\"text-align: right;\">\n",
       "      <th></th>\n",
       "      <th>Last_name</th>\n",
       "      <th>First_name</th>\n",
       "      <th>Activity</th>\n",
       "      <th>Duration</th>\n",
       "      <th>Date</th>\n",
       "    </tr>\n",
       "  </thead>\n",
       "  <tbody>\n",
       "    <tr>\n",
       "      <th>30</th>\n",
       "      <td>Douberley</td>\n",
       "      <td>David</td>\n",
       "      <td>Swim</td>\n",
       "      <td>25</td>\n",
       "      <td>2020-10-23</td>\n",
       "    </tr>\n",
       "    <tr>\n",
       "      <th>36</th>\n",
       "      <td>Douberley</td>\n",
       "      <td>David</td>\n",
       "      <td>Run</td>\n",
       "      <td>43</td>\n",
       "      <td>2020-10-20</td>\n",
       "    </tr>\n",
       "    <tr>\n",
       "      <th>62</th>\n",
       "      <td>Douberley</td>\n",
       "      <td>David</td>\n",
       "      <td>Bike</td>\n",
       "      <td>57</td>\n",
       "      <td>2020-10-15</td>\n",
       "    </tr>\n",
       "  </tbody>\n",
       "</table>\n",
       "</div>"
      ],
      "text/plain": [
       "    Last_name First_name Activity  Duration        Date\n",
       "30  Douberley      David     Swim        25  2020-10-23\n",
       "36  Douberley      David      Run        43  2020-10-20\n",
       "62  Douberley      David     Bike        57  2020-10-15"
      ]
     },
     "execution_count": 18,
     "metadata": {},
     "output_type": "execute_result"
    }
   ],
   "source": [
    "#Reduced the data set only Douberley, D\n",
    "david_df = long_run_df[(long_run_df.Last_name == \"Douberley\") & (long_run_df.First_name == \"David\")]\n",
    "david_df.head(3)"
   ]
  },
  {
   "cell_type": "code",
   "execution_count": 9,
   "metadata": {},
   "outputs": [
    {
     "data": {
      "text/html": [
       "<div>\n",
       "<style scoped>\n",
       "    .dataframe tbody tr th:only-of-type {\n",
       "        vertical-align: middle;\n",
       "    }\n",
       "\n",
       "    .dataframe tbody tr th {\n",
       "        vertical-align: top;\n",
       "    }\n",
       "\n",
       "    .dataframe thead th {\n",
       "        text-align: right;\n",
       "    }\n",
       "</style>\n",
       "<table border=\"1\" class=\"dataframe\">\n",
       "  <thead>\n",
       "    <tr style=\"text-align: right;\">\n",
       "      <th></th>\n",
       "      <th>Last_name</th>\n",
       "      <th>First_name</th>\n",
       "      <th>Activity</th>\n",
       "      <th>Duration</th>\n",
       "      <th>Date</th>\n",
       "    </tr>\n",
       "  </thead>\n",
       "  <tbody>\n",
       "    <tr>\n",
       "      <th>36</th>\n",
       "      <td>Douberley</td>\n",
       "      <td>David</td>\n",
       "      <td>Run</td>\n",
       "      <td>43</td>\n",
       "      <td>2020-10-20</td>\n",
       "    </tr>\n",
       "    <tr>\n",
       "      <th>135</th>\n",
       "      <td>Douberley</td>\n",
       "      <td>David</td>\n",
       "      <td>Run</td>\n",
       "      <td>22</td>\n",
       "      <td>2020-10-20</td>\n",
       "    </tr>\n",
       "    <tr>\n",
       "      <th>161</th>\n",
       "      <td>Douberley</td>\n",
       "      <td>David</td>\n",
       "      <td>Run</td>\n",
       "      <td>35</td>\n",
       "      <td>2020-10-19</td>\n",
       "    </tr>\n",
       "    <tr>\n",
       "      <th>198</th>\n",
       "      <td>Douberley</td>\n",
       "      <td>David</td>\n",
       "      <td>Run</td>\n",
       "      <td>7</td>\n",
       "      <td>2020-10-23</td>\n",
       "    </tr>\n",
       "    <tr>\n",
       "      <th>244</th>\n",
       "      <td>Douberley</td>\n",
       "      <td>David</td>\n",
       "      <td>Run</td>\n",
       "      <td>40</td>\n",
       "      <td>2020-10-14</td>\n",
       "    </tr>\n",
       "  </tbody>\n",
       "</table>\n",
       "</div>"
      ],
      "text/plain": [
       "     Last_name First_name Activity  Duration        Date\n",
       "36   Douberley      David      Run        43  2020-10-20\n",
       "135  Douberley      David      Run        22  2020-10-20\n",
       "161  Douberley      David      Run        35  2020-10-19\n",
       "198  Douberley      David      Run         7  2020-10-23\n",
       "244  Douberley      David      Run        40  2020-10-14"
      ]
     },
     "execution_count": 9,
     "metadata": {},
     "output_type": "execute_result"
    }
   ],
   "source": [
    "#Reduced data set to \"Run\" activity only\n",
    "david_run = david_df[(david_df.Activity == \"Run\")]\n",
    "david_run.head()"
   ]
  },
  {
   "cell_type": "code",
   "execution_count": 10,
   "metadata": {},
   "outputs": [
    {
     "data": {
      "text/html": [
       "<div>\n",
       "<style scoped>\n",
       "    .dataframe tbody tr th:only-of-type {\n",
       "        vertical-align: middle;\n",
       "    }\n",
       "\n",
       "    .dataframe tbody tr th {\n",
       "        vertical-align: top;\n",
       "    }\n",
       "\n",
       "    .dataframe thead th {\n",
       "        text-align: right;\n",
       "    }\n",
       "</style>\n",
       "<table border=\"1\" class=\"dataframe\">\n",
       "  <thead>\n",
       "    <tr style=\"text-align: right;\">\n",
       "      <th></th>\n",
       "      <th>Last_name</th>\n",
       "      <th>First_name</th>\n",
       "      <th>Activity</th>\n",
       "      <th>Duration</th>\n",
       "      <th>Date</th>\n",
       "    </tr>\n",
       "  </thead>\n",
       "  <tbody>\n",
       "    <tr>\n",
       "      <th>696</th>\n",
       "      <td>Douberley</td>\n",
       "      <td>David</td>\n",
       "      <td>Run</td>\n",
       "      <td>59</td>\n",
       "      <td>2020-10-17</td>\n",
       "    </tr>\n",
       "  </tbody>\n",
       "</table>\n",
       "</div>"
      ],
      "text/plain": [
       "     Last_name First_name Activity  Duration        Date\n",
       "696  Douberley      David      Run        59  2020-10-17"
      ]
     },
     "execution_count": 10,
     "metadata": {},
     "output_type": "execute_result"
    }
   ],
   "source": [
    "#apply date range and sort to find largest duration for the period\n",
    "this_week = david_run[(david_run['Date'] > '2020-10-16') & (david_run['Date'] <= '2020-10-23')]\n",
    "\n",
    "david_sorted = this_week.sort_values(\"Duration\", ascending=False)\n",
    "\n",
    "david_sorted.head(1)"
   ]
  },
  {
   "cell_type": "markdown",
   "metadata": {},
   "source": [
    "### What is David Douberley's total exercise logged this week, in each category (Swim, Bike, and Run)?  \n",
    "#### Mr. Douberley's total exercise for the date range provided is as follows Swim 458, Run 504, Bike 210"
   ]
  },
  {
   "cell_type": "code",
   "execution_count": 12,
   "metadata": {},
   "outputs": [
    {
     "data": {
      "text/html": [
       "<div>\n",
       "<style scoped>\n",
       "    .dataframe tbody tr th:only-of-type {\n",
       "        vertical-align: middle;\n",
       "    }\n",
       "\n",
       "    .dataframe tbody tr th {\n",
       "        vertical-align: top;\n",
       "    }\n",
       "\n",
       "    .dataframe thead th {\n",
       "        text-align: right;\n",
       "    }\n",
       "</style>\n",
       "<table border=\"1\" class=\"dataframe\">\n",
       "  <thead>\n",
       "    <tr style=\"text-align: right;\">\n",
       "      <th></th>\n",
       "      <th>Last_name</th>\n",
       "      <th>First_name</th>\n",
       "      <th>Activity</th>\n",
       "      <th>Duration</th>\n",
       "      <th>Date</th>\n",
       "    </tr>\n",
       "  </thead>\n",
       "  <tbody>\n",
       "    <tr>\n",
       "      <th>30</th>\n",
       "      <td>Douberley</td>\n",
       "      <td>David</td>\n",
       "      <td>Swim</td>\n",
       "      <td>25</td>\n",
       "      <td>2020-10-23</td>\n",
       "    </tr>\n",
       "    <tr>\n",
       "      <th>36</th>\n",
       "      <td>Douberley</td>\n",
       "      <td>David</td>\n",
       "      <td>Run</td>\n",
       "      <td>43</td>\n",
       "      <td>2020-10-20</td>\n",
       "    </tr>\n",
       "    <tr>\n",
       "      <th>100</th>\n",
       "      <td>Douberley</td>\n",
       "      <td>David</td>\n",
       "      <td>Bike</td>\n",
       "      <td>21</td>\n",
       "      <td>2020-10-23</td>\n",
       "    </tr>\n",
       "    <tr>\n",
       "      <th>117</th>\n",
       "      <td>Douberley</td>\n",
       "      <td>David</td>\n",
       "      <td>Swim</td>\n",
       "      <td>54</td>\n",
       "      <td>2020-10-17</td>\n",
       "    </tr>\n",
       "    <tr>\n",
       "      <th>135</th>\n",
       "      <td>Douberley</td>\n",
       "      <td>David</td>\n",
       "      <td>Run</td>\n",
       "      <td>22</td>\n",
       "      <td>2020-10-20</td>\n",
       "    </tr>\n",
       "  </tbody>\n",
       "</table>\n",
       "</div>"
      ],
      "text/plain": [
       "     Last_name First_name Activity  Duration        Date\n",
       "30   Douberley      David     Swim        25  2020-10-23\n",
       "36   Douberley      David      Run        43  2020-10-20\n",
       "100  Douberley      David     Bike        21  2020-10-23\n",
       "117  Douberley      David     Swim        54  2020-10-17\n",
       "135  Douberley      David      Run        22  2020-10-20"
      ]
     },
     "execution_count": 12,
     "metadata": {},
     "output_type": "execute_result"
    }
   ],
   "source": [
    "#isolated Douberley,D including all activities for the given week\n",
    "weeks_total = david_df[(david_df['Date'] > '2020-10-16') & (david_df['Date'] <= '2020-10-23')]\n",
    "\n",
    "weeks_total.head()"
   ]
  },
  {
   "cell_type": "code",
   "execution_count": 13,
   "metadata": {},
   "outputs": [
    {
     "name": "stdout",
     "output_type": "stream",
     "text": [
      "                               Duration\n",
      "Last_name First_name Activity          \n",
      "Douberley David      Bike           210\n",
      "                     Run            504\n",
      "                     Swim           458\n"
     ]
    }
   ],
   "source": [
    "#Used groupby first and last to ensure others with the same name are removed from the results\n",
    "#groupby activity, and grab the sum for each activity\n",
    "david_group = weeks_total.groupby([\"Last_name\", \"First_name\",\"Activity\"]).sum()\n",
    "\n",
    "print(david_group)"
   ]
  },
  {
   "cell_type": "markdown",
   "metadata": {},
   "source": [
    "### Who are the top three athletes this week? That is, the participants who have logged the highest total duration of all three exercises.\n",
    "#### The top three athletes across all three exercise categories within the given date range are Perez, Kim (2103), Douberley, Tareq (1560), and Van Damme, Krista (1349)"
   ]
  },
  {
   "cell_type": "code",
   "execution_count": 19,
   "metadata": {},
   "outputs": [],
   "source": [
    "#Aplly date range to entire data set\n",
    "group_total = long_run_df[(long_run_df['Date'] >= '2020-10-17') & (long_run_df['Date'] <= '2020-10-23')]"
   ]
  },
  {
   "cell_type": "code",
   "execution_count": 16,
   "metadata": {},
   "outputs": [],
   "source": [
    "#Group the previous object by Last & First to isolate each individual\n",
    "#Grab the sum of all duration amounts per each individual using .sum()\n",
    "thisweeks_total = group_total.groupby([\"Last_name\", \"First_name\"])\n",
    "\n",
    "final_totals = thisweeks_total.sum()"
   ]
  },
  {
   "cell_type": "code",
   "execution_count": 17,
   "metadata": {},
   "outputs": [
    {
     "data": {
      "text/html": [
       "<div>\n",
       "<style scoped>\n",
       "    .dataframe tbody tr th:only-of-type {\n",
       "        vertical-align: middle;\n",
       "    }\n",
       "\n",
       "    .dataframe tbody tr th {\n",
       "        vertical-align: top;\n",
       "    }\n",
       "\n",
       "    .dataframe thead th {\n",
       "        text-align: right;\n",
       "    }\n",
       "</style>\n",
       "<table border=\"1\" class=\"dataframe\">\n",
       "  <thead>\n",
       "    <tr style=\"text-align: right;\">\n",
       "      <th></th>\n",
       "      <th></th>\n",
       "      <th>Duration</th>\n",
       "    </tr>\n",
       "    <tr>\n",
       "      <th>Last_name</th>\n",
       "      <th>First_name</th>\n",
       "      <th></th>\n",
       "    </tr>\n",
       "  </thead>\n",
       "  <tbody>\n",
       "    <tr>\n",
       "      <th>Perez</th>\n",
       "      <th>Kim</th>\n",
       "      <td>2103</td>\n",
       "    </tr>\n",
       "    <tr>\n",
       "      <th>Douberley</th>\n",
       "      <th>Tareq</th>\n",
       "      <td>1560</td>\n",
       "    </tr>\n",
       "    <tr>\n",
       "      <th>Van Damme</th>\n",
       "      <th>Krista</th>\n",
       "      <td>1349</td>\n",
       "    </tr>\n",
       "  </tbody>\n",
       "</table>\n",
       "</div>"
      ],
      "text/plain": [
       "                      Duration\n",
       "Last_name First_name          \n",
       "Perez     Kim             2103\n",
       "Douberley Tareq           1560\n",
       "Van Damme Krista          1349"
      ]
     },
     "execution_count": 17,
     "metadata": {},
     "output_type": "execute_result"
    }
   ],
   "source": [
    "#Sort the dataframe to identify the top three\n",
    "top_three = final_totals.sort_values(\"Duration\", ascending=False)\n",
    "\n",
    "top_three.head(3)"
   ]
  },
  {
   "cell_type": "code",
   "execution_count": null,
   "metadata": {},
   "outputs": [],
   "source": []
  }
 ],
 "metadata": {
  "kernelspec": {
   "display_name": "Python 3",
   "language": "python",
   "name": "python3"
  },
  "language_info": {
   "codemirror_mode": {
    "name": "ipython",
    "version": 3
   },
   "file_extension": ".py",
   "mimetype": "text/x-python",
   "name": "python",
   "nbconvert_exporter": "python",
   "pygments_lexer": "ipython3",
   "version": "3.8.5"
  }
 },
 "nbformat": 4,
 "nbformat_minor": 4
}
